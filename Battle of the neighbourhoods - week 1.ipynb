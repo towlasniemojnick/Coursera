{
 "cells": [
  {
   "cell_type": "markdown",
   "metadata": {
    "collapsed": true
   },
   "source": [
    "# Battle of the neighbourhoods\n"
   ]
  },
  {
   "cell_type": "markdown",
   "metadata": {},
   "source": [
    "### Introduction to the problem\n",
    "\n",
    "Currently living in the capital city of Poland - Warsaw a person has decided to move to the Big Apple, as he received a very fine job offer. In this case that person (let's call him Janek) wants to find a good place to live. We will need to deifne what are Janek needs.\n",
    "\n",
    "* Safety first - Janek want to live in quite calm neighbourhood\n",
    "\n",
    "* Office commute - Janek is a lucky person, and his new employer does not need him to be in the office very often, once a week would be enough. However public transportation is a must as Janek does not have a driving license.\n",
    "\n",
    "* Cafe - However to work efficiently Janek needs caffeine. A lot of caffeine, so highly rated cafes in the neighbourhood is a must.\n",
    "\n",
    "* Polish cuisine - Janek loves his family. His Grandma makes the best pork chop and pierogi in the earth, but because Janek can't get his Grandma with him than at least some Polish restaurants within a walking distance would be good.\n",
    "\n",
    "* Italian cuisine - Pasta, Pizza, Seafood and Wine are what Janek could eat and drink all the time. Like really all the time.\n",
    "\n",
    "Having stated 5 most important points, We will now dig in to the data to find out, what would be most suitable place for Janek."
   ]
  },
  {
   "cell_type": "markdown",
   "metadata": {},
   "source": [
    "### Data\n",
    "\n",
    "We will be using data from several sources including:\n",
    "\n",
    "* NYC Open Data - https://data.cityofnewyork.us/Public-Safety/NYPD-Arrest-Data-Year-to-Date-/uip8-fykc\n",
    "* NYC Neigbourhood Names and GeoLocations - https://geo.nyu.edu/catalog/nyu_2451_34572\n",
    "* Foursqaure API\n",
    "\n"
   ]
  },
  {
   "cell_type": "markdown",
   "metadata": {},
   "source": [
    "### Planned methodology\n",
    "\n",
    "1. Based on the NYC Open Data we will analyze which of the Districts has the lowest crime rate. We will then select it for further analysis.\n",
    "\n",
    "2. With NYC Neighbourhood Names and GeoLocations we will create the Neighbourhoods in the District which will be selected in the first step.\n",
    "\n",
    "3. In this step we will look for the neighbourhood which has the Cafes, Polish and Italian restaurants. Based on this we will make a selection of the place for Janek to live."
   ]
  }
 ],
 "metadata": {
  "kernelspec": {
   "display_name": "Python 3.6",
   "language": "python",
   "name": "python3"
  },
  "language_info": {
   "codemirror_mode": {
    "name": "ipython",
    "version": 3
   },
   "file_extension": ".py",
   "mimetype": "text/x-python",
   "name": "python",
   "nbconvert_exporter": "python",
   "pygments_lexer": "ipython3",
   "version": "3.6.9"
  }
 },
 "nbformat": 4,
 "nbformat_minor": 1
}
